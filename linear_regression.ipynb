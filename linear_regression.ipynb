{
 "cells": [
  {
   "cell_type": "markdown",
   "metadata": {},
   "source": [
    "# Linear regression\n"
   ]
  },
  {
   "cell_type": "code",
   "execution_count": 2,
   "metadata": {},
   "outputs": [],
   "source": [
    "import random"
   ]
  },
  {
   "cell_type": "markdown",
   "metadata": {},
   "source": [
    "## example model for linear regression"
   ]
  },
  {
   "cell_type": "code",
   "execution_count": 24,
   "metadata": {},
   "outputs": [],
   "source": [
    "examples = [\n",
    "    ([1, 1], 0),\n",
    "    ([1, 4], 4),\n",
    "    ([1,-7,], -4),\n",
    "    ([1, 2,], 5),\n",
    "    ([1, 5,], 3)\n",
    "]\n",
    "\n",
    "model = [1, 1]"
   ]
  },
  {
   "cell_type": "code",
   "execution_count": 4,
   "metadata": {},
   "outputs": [],
   "source": [
    "F = lambda X : model[0]*X[0] + model[1]*X[1]"
   ]
  },
  {
   "cell_type": "code",
   "execution_count": 5,
   "metadata": {},
   "outputs": [
    {
     "data": {
      "text/plain": [
       "4"
      ]
     },
     "execution_count": 5,
     "metadata": {},
     "output_type": "execute_result"
    }
   ],
   "source": [
    "F(examples[1][0])"
   ]
  },
  {
   "cell_type": "markdown",
   "metadata": {},
   "source": [
    "## loss functions"
   ]
  },
  {
   "cell_type": "code",
   "execution_count": 6,
   "metadata": {},
   "outputs": [],
   "source": [
    "def squared_error(examples, predictions):\n",
    "    \"\"\"\n",
    "    Given a list of examples and model predictions on the examples' Xs (examples[i][0]), return the squared error.\n",
    "    \"\"\"\n",
    "    acc = 0\n",
    "    for i in range(len(examples)):\n",
    "        x = examples[i][1] - predictions[i] # error\n",
    "        acc += x*x # squared\n",
    "\n",
    "    return acc"
   ]
  },
  {
   "cell_type": "code",
   "execution_count": 7,
   "metadata": {},
   "outputs": [],
   "source": [
    "def mean_squared_error(examples, predictions):\n",
    "    \"\"\"\n",
    "    Given a list of examples and model predictions on the examples' Xs (examples[i][0]), return the mean squared error.\n",
    "    \"\"\"\n",
    "    return squared_error(examples, predictions) / len(examples)"
   ]
  },
  {
   "cell_type": "code",
   "execution_count": 8,
   "metadata": {},
   "outputs": [],
   "source": [
    "def predict(inputs, model):\n",
    "    \"\"\"\n",
    "    Given a list of inputs and a model, return a list of predictions.\n",
    "    Currently only works for 2 parameter models/inputs (w0, w1)/(x0, x1)\n",
    "    \"\"\"\n",
    "    hs = []\n",
    "    for i in range(len(inputs)):\n",
    "        x = inputs[i]\n",
    "        h = model[0]*x[0] + model[1]*x[1]\n",
    "\n",
    "        hs.append(h)\n",
    "    return hs"
   ]
  },
  {
   "cell_type": "code",
   "execution_count": 9,
   "metadata": {},
   "outputs": [
    {
     "name": "stdout",
     "output_type": "stream",
     "text": [
      "sqe=23, msqe=4.6\n"
     ]
    }
   ],
   "source": [
    "hs = predict([x for (x, _) in examples], model)\n",
    "sqe = squared_error(examples, hs)\n",
    "msqe = mean_squared_error(examples, hs)\n",
    "\n",
    "print(f'{sqe=}, {msqe=}')"
   ]
  },
  {
   "cell_type": "markdown",
   "metadata": {},
   "source": [
    "## gradients"
   ]
  },
  {
   "cell_type": "code",
   "execution_count": 10,
   "metadata": {},
   "outputs": [],
   "source": [
    "# TODO: design this to not have the code repeated twice\n",
    "def calcGradient(examples, model, param):\n",
    "    \"\"\"\n",
    "    Given a list of examples, a model, and the id of a parameter, returns the batch gradient of that parameter and the list of item gradients.\n",
    "    \"\"\"\n",
    "\n",
    "    item_gs = []\n",
    "    \n",
    "    G = lambda X, y : (y - predict([X], model)[0])*X[param]\n",
    "\n",
    "    acc = 0\n",
    "    for i in range(len(examples)):\n",
    "        acc += G(examples[i][0], examples[i][1])\n",
    "        item_gs.append(G(examples[i][0], examples[i][1]))\n",
    "\n",
    "    return acc, item_gs\n"
   ]
  },
  {
   "cell_type": "code",
   "execution_count": 15,
   "metadata": {},
   "outputs": [
    {
     "data": {
      "text/plain": [
       "3"
      ]
     },
     "execution_count": 15,
     "metadata": {},
     "output_type": "execute_result"
    }
   ],
   "source": [
    "g, gs = calcGradient(examples, model, 0)\n",
    "g"
   ]
  },
  {
   "cell_type": "markdown",
   "metadata": {},
   "source": [
    "## generate practice problems"
   ]
  },
  {
   "cell_type": "markdown",
   "metadata": {},
   "source": [
    "### examples"
   ]
  },
  {
   "cell_type": "code",
   "execution_count": 16,
   "metadata": {},
   "outputs": [
    {
     "data": {
      "text/plain": [
       "[([1, 8], 9), ([1, 7], 8), ([1, 9], 10)]"
      ]
     },
     "execution_count": 16,
     "metadata": {},
     "output_type": "execute_result"
    }
   ],
   "source": [
    "def linear_examples(num_examples, num_xs=2, x0_is_bias=True): # default to univariate\n",
    "    \"\"\"\n",
    "    Randomly generates an example set in the shape (num_examples, (num_xs, 1)).\n",
    "    If x0_is_bias is True, then x0 will be 1 in every example.\n",
    "    \"\"\"\n",
    "    # real function -- used to find ys\n",
    "    model = []\n",
    "    for i in range(num_xs):\n",
    "        model.append(random.randint(0, 2))\n",
    "    \n",
    "    #print(f'real fucntion: {model}')\n",
    "    \n",
    "    examples = []\n",
    "    for j in range(num_examples):\n",
    "        ex_i = [] # current example\n",
    "        for j in range(num_xs):\n",
    "            if j == 0 and x0_is_bias:\n",
    "                ex_i.append(1)\n",
    "            else:\n",
    "                ex_i.append(random.randint(0, 10))\n",
    "    \n",
    "        examples.append((ex_i, predict([model], ex_i)[0]))\n",
    "    \n",
    "    return examples\n",
    "\n",
    "linear_examples(3, 2)"
   ]
  },
  {
   "cell_type": "markdown",
   "metadata": {},
   "source": [
    "## squared error practice"
   ]
  },
  {
   "cell_type": "code",
   "execution_count": 17,
   "metadata": {},
   "outputs": [
    {
     "name": "stdout",
     "output_type": "stream",
     "text": [
      "Compute the squared error and mean squared error for the model (1, 2)\n",
      "and examples:\n",
      "[([1, 1], 3), ([1, 10], 21), ([1, 9], 19)]\n"
     ]
    }
   ],
   "source": [
    "# generate problem\n",
    "model = (random.randint(0, 2), random.randint(0, 2))\n",
    "examples = linear_examples(3, 2)\n",
    "\n",
    "print(f'Compute the squared error and mean squared error for the model {model}\\nand examples:\\n{examples}')"
   ]
  },
  {
   "cell_type": "code",
   "execution_count": null,
   "metadata": {},
   "outputs": [
    {
     "name": "stdout",
     "output_type": "stream",
     "text": [
      "predictions=[1, 1, 1]\n",
      "squared error: 324\n",
      "mean squared error: 108.0\n"
     ]
    }
   ],
   "source": [
    "# solve problem\n",
    "predictions = predict([X for (X, _) in examples], model)\n",
    "sqe = squared_error(examples, predictions)\n",
    "msqe = mean_squared_error(examples, predictions)\n",
    "\n",
    "print(f'{predictions=}\\nsquared error: {sqe}\\nmean squared error: {msqe}')"
   ]
  },
  {
   "cell_type": "markdown",
   "metadata": {},
   "source": [
    "## finding gradient practice"
   ]
  },
  {
   "cell_type": "code",
   "execution_count": 49,
   "metadata": {},
   "outputs": [
    {
     "name": "stdout",
     "output_type": "stream",
     "text": [
      "Compute the gradient for x0 given the model [0, 2]\n",
      "and examples:\n",
      "[([1, 2], 4), ([1, 8], 16), ([1, 10], 20)]\n"
     ]
    }
   ],
   "source": [
    "# generate problem\n",
    "model = [random.randint(0, 2), random.randint(0, 2)]\n",
    "examples = linear_examples(3, 2)\n",
    "which_x = random.randint(0, 1)\n",
    "\n",
    "print(f'Compute the gradient for x{which_x} given the model {model}\\nand examples:\\n{examples}')"
   ]
  },
  {
   "cell_type": "code",
   "execution_count": 48,
   "metadata": {},
   "outputs": [
    {
     "name": "stdout",
     "output_type": "stream",
     "text": [
      "model predictions: [11, 3, 15]\n",
      "individual gradients: [-1, -1, -1]\n",
      "batch gradient: -3\n"
     ]
    }
   ],
   "source": [
    "# solve problem\n",
    "predictions = predict([x for (x, _) in examples], model)\n",
    "g, gs = calcGradient(examples, model, which_x)\n",
    "\n",
    "print(f'model predictions: {predictions}\\nindividual gradients: {gs}\\nbatch gradient: {g}')\n"
   ]
  }
 ],
 "metadata": {
  "kernelspec": {
   "display_name": "Python 3",
   "language": "python",
   "name": "python3"
  },
  "language_info": {
   "codemirror_mode": {
    "name": "ipython",
    "version": 3
   },
   "file_extension": ".py",
   "mimetype": "text/x-python",
   "name": "python",
   "nbconvert_exporter": "python",
   "pygments_lexer": "ipython3",
   "version": "3.10.12"
  }
 },
 "nbformat": 4,
 "nbformat_minor": 2
}
