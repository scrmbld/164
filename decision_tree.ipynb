{
 "cells": [
  {
   "cell_type": "code",
   "execution_count": 2,
   "metadata": {},
   "outputs": [],
   "source": [
    "import math\n",
    "import random"
   ]
  },
  {
   "cell_type": "code",
   "execution_count": 3,
   "metadata": {},
   "outputs": [],
   "source": [
    "safelog2 = lambda x : math.log2(x) if not x == 0 else 0"
   ]
  },
  {
   "cell_type": "markdown",
   "metadata": {},
   "source": [
    "## Examples\n",
    "\n",
    "examples[0] -> True\n",
    "\n",
    "examples[1] -> False"
   ]
  },
  {
   "cell_type": "code",
   "execution_count": 4,
   "metadata": {},
   "outputs": [],
   "source": [
    "examples = [\n",
    "    ([1, 1, 0],1),\n",
    "    ([1, 1, 1],1),\n",
    "    ([1, 1, 1],1),\n",
    "    ([1, 1, 0],1),\n",
    "    ([1, 0, 1],1),\n",
    "\n",
    "    ([0, 0, 1],0),\n",
    "    ([0, 0, 0],0),\n",
    "    ([0, 0, 0],0),\n",
    "    ([0, 0, 1],0),\n",
    "    ([0, 1, 0],0)\n",
    "]"
   ]
  },
  {
   "cell_type": "markdown",
   "metadata": {},
   "source": [
    "## Boolean entropy\n",
    "\n",
    "q = probability that the boolean value is true"
   ]
  },
  {
   "cell_type": "code",
   "execution_count": 5,
   "metadata": {},
   "outputs": [],
   "source": [
    "B = lambda q : -1 * (q*safelog2(q) + (1-q)*safelog2(1-q))"
   ]
  },
  {
   "cell_type": "code",
   "execution_count": 6,
   "metadata": {},
   "outputs": [
    {
     "data": {
      "text/plain": [
       "[0.5, 0.5]"
      ]
     },
     "execution_count": 6,
     "metadata": {},
     "output_type": "execute_result"
    }
   ],
   "source": [
    "# probability that labels in a set are positive or negative\n",
    "# TODO: make this work for non-boolean discrete values\n",
    "def p_q(examples):\n",
    "    p = 0\n",
    "    n = 0\n",
    "    for e in examples:\n",
    "        if e[1] == 1:\n",
    "            p += 1\n",
    "        else:\n",
    "            n += 1\n",
    "\n",
    "    return [p/len(examples),n/len(examples)]\n",
    "p_q(examples)"
   ]
  },
  {
   "cell_type": "code",
   "execution_count": 7,
   "metadata": {},
   "outputs": [
    {
     "data": {
      "text/plain": [
       "([([1, 0, 1], 1),\n",
       "  ([0, 0, 1], 0),\n",
       "  ([0, 0, 0], 0),\n",
       "  ([0, 0, 0], 0),\n",
       "  ([0, 0, 1], 0)],\n",
       " [([1, 1, 0], 1),\n",
       "  ([1, 1, 1], 1),\n",
       "  ([1, 1, 1], 1),\n",
       "  ([1, 1, 0], 1),\n",
       "  ([0, 1, 0], 0)])"
      ]
     },
     "execution_count": 7,
     "metadata": {},
     "output_type": "execute_result"
    }
   ],
   "source": [
    "# TODO: make this work on non-boolean discrete values\n",
    "def split(set, attr):\n",
    "    a_0 = []\n",
    "    a_1 = []\n",
    "    for e in set:\n",
    "        e_x = e[0]\n",
    "        if e_x[attr] == 0:\n",
    "            a_0.append(e)\n",
    "        else:\n",
    "            a_1.append(e)\n",
    "\n",
    "    return a_0, a_1\n",
    "\n",
    "split(examples, 1)"
   ]
  },
  {
   "cell_type": "code",
   "execution_count": 8,
   "metadata": {},
   "outputs": [
    {
     "name": "stdout",
     "output_type": "stream",
     "text": [
      "0.5\n"
     ]
    },
    {
     "data": {
      "text/plain": [
       "0.5"
      ]
     },
     "execution_count": 8,
     "metadata": {},
     "output_type": "execute_result"
    }
   ],
   "source": [
    "def gini(ps):\n",
    "    acc = 0.\n",
    "    for p in ps:\n",
    "        acc += p**2\n",
    "\n",
    "    print(acc)\n",
    "    \n",
    "    return 1 - acc\n",
    "\n",
    "gini([0.5, 0.5])"
   ]
  },
  {
   "cell_type": "code",
   "execution_count": 9,
   "metadata": {},
   "outputs": [
    {
     "data": {
      "text/plain": [
       "1.0"
      ]
     },
     "execution_count": 9,
     "metadata": {},
     "output_type": "execute_result"
    }
   ],
   "source": [
    "def entropy(ps):\n",
    "    acc = 0.\n",
    "    for p in ps:\n",
    "        acc += p*safelog2(p)\n",
    "    \n",
    "    return -1 * acc\n",
    "\n",
    "entropy([0.5, 0.5])"
   ]
  },
  {
   "cell_type": "markdown",
   "metadata": {},
   "source": [
    "# Information gain when splitting on X1"
   ]
  },
  {
   "cell_type": "code",
   "execution_count": 10,
   "metadata": {},
   "outputs": [
    {
     "name": "stdout",
     "output_type": "stream",
     "text": [
      "0.5\n",
      "0.6800000000000002\n",
      "0.6800000000000002\n",
      "initial=0.5\n",
      "gin0=0.31999999999999984, gin1=0.31999999999999984, gain=0.18000000000000016\n"
     ]
    }
   ],
   "source": [
    "initial = gini(p_q(examples))\n",
    "\n",
    "x1_0, x1_1 = split(examples, 1)\n",
    "gin0 = gini(p_q(x1_0))\n",
    "gin1 = gini(p_q(x1_1))\n",
    "\n",
    "gain = initial - (len(x1_0)/(len(x1_0) + len(x1_1))*gin0 + len(x1_1)/(len(x1_1) + len(x1_0))*gin1)\n",
    "\n",
    "print(f'{initial=}\\n{gin0=}, {gin1=}, {gain=}')"
   ]
  },
  {
   "cell_type": "markdown",
   "metadata": {},
   "source": [
    "# Generate practice problems"
   ]
  },
  {
   "cell_type": "code",
   "execution_count": 11,
   "metadata": {},
   "outputs": [
    {
     "data": {
      "text/plain": [
       "[([0, 1, 0], 1),\n",
       " ([0, 1, 0], 1),\n",
       " ([0, 1, 0], 1),\n",
       " ([0, 1, 0], 1),\n",
       " ([0, 0, 0], 1),\n",
       " ([1, 0, 1], 0),\n",
       " ([1, 0, 1], 0),\n",
       " ([1, 0, 1], 0),\n",
       " ([1, 0, 1], 0),\n",
       " ([1, 0, 0], 0)]"
      ]
     },
     "execution_count": 11,
     "metadata": {},
     "output_type": "execute_result"
    }
   ],
   "source": [
    "def gen_examples(num_examples, num_attributes = 3, num_classes = 2):\n",
    "    positives = []\n",
    "    negatives = []\n",
    "    attr_dist = []\n",
    "    for i in range(num_attributes):\n",
    "        prob_tt = random.randint(0, num_examples//2)\n",
    "        prob_ft = random.randint(0, num_examples//2)\n",
    "        attr_dist.append([prob_tt, prob_ft])\n",
    "\n",
    "    for i in range(num_examples//2):\n",
    "        example_x_t = []\n",
    "        example_x_f = []\n",
    "        for j in range(num_attributes):\n",
    "            if attr_dist[j][0] > 0:\n",
    "                example_x_t.append(1)\n",
    "                attr_dist[j][0] -= 1\n",
    "            else:\n",
    "                example_x_t.append(0)\n",
    "\n",
    "            if attr_dist[j][1] > 0:\n",
    "                example_x_f.append(1)\n",
    "                attr_dist[j][1] -= 1\n",
    "            else:\n",
    "                example_x_f.append(0)\n",
    "        \n",
    "        positives.append(example_x_t)\n",
    "        negatives.append(example_x_f)\n",
    "\n",
    "    examples = [(x, 1) for x in positives] + [(x, 0) for x in negatives]\n",
    "    return examples\n",
    "\n",
    "gen_examples(10, 3, 2)"
   ]
  },
  {
   "cell_type": "markdown",
   "metadata": {},
   "source": [
    "### solve gini problem"
   ]
  },
  {
   "cell_type": "code",
   "execution_count": 12,
   "metadata": {},
   "outputs": [
    {
     "name": "stdout",
     "output_type": "stream",
     "text": [
      "0.5\n",
      "0.6800000000000002\n",
      "0.6800000000000002\n",
      "initial_ps=[0.5, 0.5], initial=0.5\n",
      "ps_0=[0.2, 0.8], ps_1=[0.8, 0.2], gin0=0.31999999999999984, gin1=0.31999999999999984, gain=0.18000000000000016\n"
     ]
    }
   ],
   "source": [
    "def solve_gini(examples, attr):\n",
    "    initial_ps = p_q(examples)\n",
    "    initial = gini(p_q(examples))\n",
    "\n",
    "    x1_0, x1_1 = split(examples, attr)\n",
    "    ps_0 = p_q(x1_0)\n",
    "    ps_1 = p_q(x1_1)\n",
    "    gin0 = gini(p_q(x1_0))\n",
    "    gin1 = gini(p_q(x1_1))\n",
    "\n",
    "    gain = initial - (len(x1_0)/(len(x1_0) + len(x1_1))*gin0 + len(x1_1)/(len(x1_1) + len(x1_0))*gin1)\n",
    "\n",
    "    print(f'{initial_ps=}, {initial=}\\n{ps_0=}, {ps_1=}, {gin0=}, {gin1=}, {gain=}')\n",
    "\n",
    "solve_gini(examples, 1) # test on original examples set"
   ]
  },
  {
   "cell_type": "markdown",
   "metadata": {},
   "source": [
    "### solve entropy problem"
   ]
  },
  {
   "cell_type": "code",
   "execution_count": 13,
   "metadata": {},
   "outputs": [
    {
     "name": "stdout",
     "output_type": "stream",
     "text": [
      "initial_ps=[0.5, 0.5], initial=1.0\n",
      "ps_0=[0.2, 0.8], ps_1=[0.8, 0.2], entr0=0.7219280948873623, entr1=0.7219280948873623, gain=0.2780719051126377\n"
     ]
    }
   ],
   "source": [
    "def solve_entropy(examples, attr):\n",
    "    initial_ps = p_q(examples)\n",
    "    initial = entropy(p_q(examples))\n",
    "\n",
    "    x1_0, x1_1 = split(examples, attr)\n",
    "    ps_0 = p_q(x1_0)\n",
    "    ps_1 = p_q(x1_1)\n",
    "    entr0 = entropy(p_q(x1_0))\n",
    "    entr1 = entropy(p_q(x1_1))\n",
    "\n",
    "    gain = initial - (len(x1_0)/(len(x1_0) + len(x1_1))*entr0 + len(x1_1)/(len(x1_1) + len(x1_0))*entr1)\n",
    "\n",
    "    print(f'{initial_ps=}, {initial=}\\n{ps_0=}, {ps_1=}, {entr0=}, {entr1=}, {gain=}')\n",
    "\n",
    "solve_entropy(examples, 1)"
   ]
  },
  {
   "cell_type": "code",
   "execution_count": 14,
   "metadata": {},
   "outputs": [
    {
     "name": "stdout",
     "output_type": "stream",
     "text": [
      "([1, 1, 0], 1),\n",
      "([1, 1, 1], 1),\n",
      "([1, 1, 1], 1),\n",
      "([1, 1, 0], 1),\n",
      "([1, 0, 1], 1),\n",
      "([0, 0, 1], 0),\n",
      "([0, 0, 0], 0),\n",
      "([0, 0, 0], 0),\n",
      "([0, 0, 1], 0),\n",
      "([0, 1, 0], 0),\n",
      "\n"
     ]
    }
   ],
   "source": [
    "def ex_print_format(example):\n",
    "    out_str = ''\n",
    "    for i in range(len(example)):\n",
    "        out_str += str(example[i]) + ',\\n'\n",
    "    \n",
    "    return out_str\n",
    "\n",
    "print(ex_print_format(examples))"
   ]
  },
  {
   "cell_type": "markdown",
   "metadata": {},
   "source": [
    "# Practice"
   ]
  },
  {
   "cell_type": "code",
   "execution_count": 14,
   "metadata": {},
   "outputs": [
    {
     "name": "stdout",
     "output_type": "stream",
     "text": [
      "Given the following dataset, calculate the information gain when splitting on attribute x0\n",
      "([1, 1, 0], 1),\n",
      "([1, 1, 0], 1),\n",
      "([0, 1, 0], 1),\n",
      "([0, 0, 0], 1),\n",
      "([0, 0, 0], 1),\n",
      "([1, 1, 1], 0),\n",
      "([1, 1, 1], 0),\n",
      "([1, 0, 1], 0),\n",
      "([1, 0, 1], 0),\n",
      "([0, 0, 0], 0),\n",
      "\n"
     ]
    }
   ],
   "source": [
    "num_attrs = 3\n",
    "examples = gen_examples(10, num_attrs, 2)\n",
    "attr_to_solve = random.randint(0,num_attrs - 1)\n",
    "\n",
    "print(f'Given the following dataset, calculate the information gain when splitting on attribute x{attr_to_solve}')\n",
    "print(ex_print_format(examples))"
   ]
  },
  {
   "cell_type": "code",
   "execution_count": 17,
   "metadata": {},
   "outputs": [],
   "source": [
    "examples = [\n",
    "        ([1, 1, 0], 1),\n",
    "        ([1, 1, 0], 1),\n",
    "        ([0, 1, 0], 1),\n",
    "        ([0, 0, 0], 1),\n",
    "        ([0, 0, 0], 1),\n",
    "        ([1, 1, 1], 0),\n",
    "        ([1, 1, 1], 0),\n",
    "        ([1, 0, 1], 0),\n",
    "        ([1, 0, 1], 0),\n",
    "        ([0, 0, 0], 0)\n",
    "    ]\n",
    "\n",
    "attr_to_solve=0"
   ]
  },
  {
   "cell_type": "code",
   "execution_count": 20,
   "metadata": {},
   "outputs": [
    {
     "name": "stdout",
     "output_type": "stream",
     "text": [
      "0.5\n",
      "0.625\n",
      "0.5555555555555556\n",
      "initial_ps=[0.5, 0.5], initial=0.5\n",
      "ps_0=[0.75, 0.25], ps_1=[0.3333333333333333, 0.6666666666666666], gin0=0.375, gin1=0.4444444444444444, gain=0.08333333333333331\n"
     ]
    }
   ],
   "source": [
    "solve_gini(examples, attr_to_solve)"
   ]
  },
  {
   "cell_type": "code",
   "execution_count": 18,
   "metadata": {},
   "outputs": [
    {
     "name": "stdout",
     "output_type": "stream",
     "text": [
      "initial_ps=[0.5, 0.5], initial=1.0\n",
      "ps_0=[0.75, 0.25], ps_1=[0.3333333333333333, 0.6666666666666666], entr0=0.8112781244591328, entr1=0.9182958340544896, gain=0.12451124978365313\n"
     ]
    }
   ],
   "source": [
    "solve_entropy(examples, attr_to_solve)"
   ]
  }
 ],
 "metadata": {
  "kernelspec": {
   "display_name": "Python 3",
   "language": "python",
   "name": "python3"
  },
  "language_info": {
   "codemirror_mode": {
    "name": "ipython",
    "version": 3
   },
   "file_extension": ".py",
   "mimetype": "text/x-python",
   "name": "python",
   "nbconvert_exporter": "python",
   "pygments_lexer": "ipython3",
   "version": "3.10.12"
  }
 },
 "nbformat": 4,
 "nbformat_minor": 2
}
