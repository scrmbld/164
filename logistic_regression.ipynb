{
 "cells": [
  {
   "cell_type": "markdown",
   "metadata": {},
   "source": [
    "# Logistic Regression Practice"
   ]
  },
  {
   "cell_type": "code",
   "execution_count": 2,
   "metadata": {},
   "outputs": [],
   "source": [
    "import random\n",
    "import math"
   ]
  },
  {
   "cell_type": "code",
   "execution_count": 3,
   "metadata": {},
   "outputs": [],
   "source": [
    "examples = [([1, -10], 0), ([1, 5], 1), ([1, 6], 1)]"
   ]
  },
  {
   "cell_type": "markdown",
   "metadata": {},
   "source": [
    "## Defining models"
   ]
  },
  {
   "cell_type": "code",
   "execution_count": 4,
   "metadata": {},
   "outputs": [],
   "source": [
    "model = [1, 1]"
   ]
  },
  {
   "cell_type": "code",
   "execution_count": 5,
   "metadata": {},
   "outputs": [],
   "source": [
    "sigmoid = lambda x : 1 / (1 + math.e**(-x))"
   ]
  },
  {
   "cell_type": "code",
   "execution_count": 6,
   "metadata": {},
   "outputs": [
    {
     "data": {
      "text/plain": [
       "0.7310585786300049"
      ]
     },
     "execution_count": 6,
     "metadata": {},
     "output_type": "execute_result"
    }
   ],
   "source": [
    "sigmoid(1)"
   ]
  },
  {
   "cell_type": "code",
   "execution_count": 7,
   "metadata": {},
   "outputs": [],
   "source": [
    "def predict(model, Xs):\n",
    "\n",
    "    hs = []\n",
    "    for X in Xs:\n",
    "        h = model[0]*X[0] + model[1]*X[1]\n",
    "        hs.append(sigmoid(h))\n",
    "        \n",
    "    return hs"
   ]
  },
  {
   "cell_type": "code",
   "execution_count": 8,
   "metadata": {},
   "outputs": [
    {
     "data": {
      "text/plain": [
       "[0.8807970779778823]"
      ]
     },
     "execution_count": 8,
     "metadata": {},
     "output_type": "execute_result"
    }
   ],
   "source": [
    "predict(model, [[1,1]])"
   ]
  },
  {
   "cell_type": "code",
   "execution_count": 9,
   "metadata": {},
   "outputs": [],
   "source": [
    "def hard_predict(model, X):\n",
    "    hs = predict(model, X)\n",
    "    for i in range(len(hs)):\n",
    "        if hs[i] < 0.5:\n",
    "            hs[i] = 0\n",
    "        else:\n",
    "            hs[i]=1\n",
    "\n",
    "    return hs"
   ]
  },
  {
   "cell_type": "code",
   "execution_count": 10,
   "metadata": {},
   "outputs": [
    {
     "data": {
      "text/plain": [
       "[1]"
      ]
     },
     "execution_count": 10,
     "metadata": {},
     "output_type": "execute_result"
    }
   ],
   "source": [
    "hard_predict(model, [[1,1]])"
   ]
  },
  {
   "cell_type": "markdown",
   "metadata": {},
   "source": [
    "## Loss Functions"
   ]
  },
  {
   "cell_type": "code",
   "execution_count": 11,
   "metadata": {},
   "outputs": [],
   "source": [
    "def squared_error(examples, predictions):\n",
    "    \"\"\"\n",
    "    Given a list of examples and model predictions on the examples' Xs (examples[i][0]), return the squared error.\n",
    "    \"\"\"\n",
    "    acc = 0\n",
    "    for i in range(len(examples)):\n",
    "        x = examples[i][1] - predictions[i] # error\n",
    "        acc += x*x # squared\n",
    "\n",
    "    return acc"
   ]
  },
  {
   "cell_type": "code",
   "execution_count": 12,
   "metadata": {},
   "outputs": [],
   "source": [
    "def mean_squared_error(examples, predictions):\n",
    "    \"\"\"\n",
    "    Given a list of examples and model predictions on the examples' Xs (examples[i][0]), return the mean squared error.\n",
    "    \"\"\"\n",
    "    return squared_error(examples, predictions) / len(examples)"
   ]
  },
  {
   "cell_type": "markdown",
   "metadata": {},
   "source": [
    "## Gradient Computation"
   ]
  },
  {
   "cell_type": "code",
   "execution_count": 37,
   "metadata": {},
   "outputs": [],
   "source": [
    "def compute_gradient(examples, model, param):\n",
    "    \"\"\"\n",
    "    Given a list of examples, a model, and the id of a parameter, returns the batch gradient of that parameter and the list of item gradients.\n",
    "    \"\"\"\n",
    "    item_gs = []\n",
    "    \n",
    "    # sqe derivative\n",
    "    G = lambda X, y : (y - predict(model, [X])[0]) * predict(model, [X])[0] * (1 - predict(model, [X])[0]) * X[param]\n",
    "\n",
    "    # sum up sqe derivative for every example\n",
    "    acc = 0\n",
    "    for i in range(len(examples)):\n",
    "        acc += G(examples[i][0], examples[i][1])\n",
    "        item_gs.append(G(examples[i][0], examples[i][1]))\n",
    "\n",
    "    return acc, item_gs"
   ]
  },
  {
   "cell_type": "code",
   "execution_count": 21,
   "metadata": {},
   "outputs": [
    {
     "data": {
      "text/plain": [
       "(6.9127817406400905e-06,\n",
       " [-1.522434254969053e-08, 6.098747989871103e-06, 8.292580933186776e-07])"
      ]
     },
     "execution_count": 21,
     "metadata": {},
     "output_type": "execute_result"
    }
   ],
   "source": [
    "compute_gradient(examples, model, 0)"
   ]
  },
  {
   "cell_type": "markdown",
   "metadata": {},
   "source": [
    "## Generate Practice Problems"
   ]
  },
  {
   "cell_type": "code",
   "execution_count": 26,
   "metadata": {},
   "outputs": [
    {
     "data": {
      "text/plain": [
       "[([1, 1], 0), ([1, 10], 1), ([1, -8], 0)]"
      ]
     },
     "execution_count": 26,
     "metadata": {},
     "output_type": "execute_result"
    }
   ],
   "source": [
    "def logistic_examples(num_examples, num_xs=2, x0_is_bias=True): # default to univariate\n",
    "    \"\"\"\n",
    "    Randomly generates an example set in the shape (num_examples, (num_xs, 1)).\n",
    "    If x0_is_bias is True, then x0 will be 1 in every example.\n",
    "    \"\"\"\n",
    "    # real function -- used to find ys\n",
    "    model = []\n",
    "    for i in range(num_xs):\n",
    "        model.append((random.random() - 0.5) * 5)\n",
    "    \n",
    "    # print(f'real fucntion: {model}')\n",
    "\n",
    "    examples = []\n",
    "    for j in range(num_examples):\n",
    "        ex_i = [] # current example\n",
    "        for j in range(num_xs):\n",
    "            if j == 0 and x0_is_bias:\n",
    "                ex_i.append(1)\n",
    "            else:\n",
    "                ex_i.append(random.randint(-10, 10))\n",
    "    \n",
    "        examples.append((ex_i, hard_predict(model, [ex_i])[0]))\n",
    "    \n",
    "    return examples\n",
    "\n",
    "logistic_examples(3, 2)"
   ]
  },
  {
   "cell_type": "markdown",
   "metadata": {},
   "source": [
    "### Loss Function Practice"
   ]
  },
  {
   "cell_type": "code",
   "execution_count": 27,
   "metadata": {},
   "outputs": [
    {
     "name": "stdout",
     "output_type": "stream",
     "text": [
      "Compute the squared error given the model [-2, 2]\n",
      "and examples:\n",
      "[([1, 2], 1), ([1, 4], 1), ([1, -10], 0)]\n"
     ]
    }
   ],
   "source": [
    "# generate problem\n",
    "model = [random.randint(-2, 2), random.randint(-2, 2)]\n",
    "examples = logistic_examples(3, 2)\n",
    "\n",
    "print(f'Compute the squared error given the model {model}\\nand examples:\\n{examples}')"
   ]
  },
  {
   "cell_type": "code",
   "execution_count": 28,
   "metadata": {},
   "outputs": [
    {
     "name": "stdout",
     "output_type": "stream",
     "text": [
      "sqe=0.014215450483885795, msqe=0.004738483494628598\n"
     ]
    }
   ],
   "source": [
    "# solve problem\n",
    "hs = predict(model, [x for (x, _) in examples])\n",
    "sqe = squared_error(examples, hs)\n",
    "msqe = mean_squared_error(examples, hs)\n",
    "\n",
    "print(f'{sqe=}, {msqe=}')"
   ]
  },
  {
   "cell_type": "markdown",
   "metadata": {},
   "source": [
    "### Gradient Computation Practice"
   ]
  },
  {
   "cell_type": "code",
   "execution_count": 29,
   "metadata": {},
   "outputs": [
    {
     "name": "stdout",
     "output_type": "stream",
     "text": [
      "Compute the gradient for x1 given the model [-2, -1]\n",
      "and examples:\n",
      "[([1, 5], 1), ([1, -10], 0), ([1, -5], 0)]\n"
     ]
    }
   ],
   "source": [
    "# generate problem\n",
    "model = [random.randint(-2, 2), random.randint(-2, 2)]\n",
    "examples = logistic_examples(3, 2)\n",
    "which_x = random.randint(0, 1)\n",
    "\n",
    "print(f'Compute the gradient for x{which_x} given the model {model}\\nand examples:\\n{examples}')"
   ]
  },
  {
   "cell_type": "code",
   "execution_count": 38,
   "metadata": {},
   "outputs": [
    {
     "name": "stdout",
     "output_type": "stream",
     "text": [
      "model predictions: [0.0009110511944006456, 0.9996646498695336, 0.9525741268224331]\n",
      "individual gradients: [0.00454695961014254, 0.0033512524875974276, 0.21517058597963934]\n",
      "batch gradient: 0.2230687980773793\n"
     ]
    }
   ],
   "source": [
    "# solve problem\n",
    "predictions = predict(model, [x for (x, _) in examples])\n",
    "g, gs = compute_gradient(examples, model, which_x)\n",
    "\n",
    "print(f'model predictions: {predictions}\\nindividual gradients: {gs}\\nbatch gradient: {g}')"
   ]
  }
 ],
 "metadata": {
  "kernelspec": {
   "display_name": "Python 3",
   "language": "python",
   "name": "python3"
  },
  "language_info": {
   "codemirror_mode": {
    "name": "ipython",
    "version": 3
   },
   "file_extension": ".py",
   "mimetype": "text/x-python",
   "name": "python",
   "nbconvert_exporter": "python",
   "pygments_lexer": "ipython3",
   "version": "3.10.12"
  }
 },
 "nbformat": 4,
 "nbformat_minor": 2
}
