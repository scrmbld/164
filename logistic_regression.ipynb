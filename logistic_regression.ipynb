{
 "cells": [
  {
   "cell_type": "markdown",
   "metadata": {},
   "source": [
    "# Logistic Regression Practice"
   ]
  },
  {
   "cell_type": "code",
   "execution_count": 1,
   "metadata": {},
   "outputs": [],
   "source": [
    "import random\n",
    "import math"
   ]
  },
  {
   "cell_type": "code",
   "execution_count": 60,
   "metadata": {},
   "outputs": [],
   "source": [
    "examples = [([1, -10], 0), ([1, 5], 1), ([1, 6], 1)]"
   ]
  },
  {
   "cell_type": "markdown",
   "metadata": {},
   "source": [
    "## Defining models"
   ]
  },
  {
   "cell_type": "code",
   "execution_count": 59,
   "metadata": {},
   "outputs": [],
   "source": [
    "model = [1, 1]"
   ]
  },
  {
   "cell_type": "code",
   "execution_count": 4,
   "metadata": {},
   "outputs": [],
   "source": [
    "sigmoid = lambda x : 1 / (1 + math.e**(-x))"
   ]
  },
  {
   "cell_type": "code",
   "execution_count": 6,
   "metadata": {},
   "outputs": [
    {
     "data": {
      "text/plain": [
       "0.7310585786300049"
      ]
     },
     "execution_count": 6,
     "metadata": {},
     "output_type": "execute_result"
    }
   ],
   "source": [
    "sigmoid(1)"
   ]
  },
  {
   "cell_type": "code",
   "execution_count": 72,
   "metadata": {},
   "outputs": [],
   "source": [
    "def predict(model, Xs):\n",
    "\n",
    "    hs = []\n",
    "    for X in Xs:\n",
    "        h = model[0]*X[0] + model[1]*X[1]\n",
    "        hs.append(sigmoid(h))\n",
    "        \n",
    "    return hs"
   ]
  },
  {
   "cell_type": "code",
   "execution_count": 64,
   "metadata": {},
   "outputs": [
    {
     "name": "stdout",
     "output_type": "stream",
     "text": [
      "[1, 1]\n",
      "[[1, 1]]\n"
     ]
    },
    {
     "data": {
      "text/plain": [
       "[0.8807970779778823]"
      ]
     },
     "execution_count": 64,
     "metadata": {},
     "output_type": "execute_result"
    }
   ],
   "source": [
    "predict(model, [[1,1]])"
   ]
  },
  {
   "cell_type": "code",
   "execution_count": 9,
   "metadata": {},
   "outputs": [],
   "source": [
    "def hard_predict(model, X):\n",
    "    hs = predict(model, X)\n",
    "    for i in range(len(hs)):\n",
    "        if hs[i] < 0.5:\n",
    "            hs[i] = 0\n",
    "        else:\n",
    "            hs[i]=1\n",
    "\n",
    "    return hs"
   ]
  },
  {
   "cell_type": "code",
   "execution_count": 10,
   "metadata": {},
   "outputs": [
    {
     "data": {
      "text/plain": [
       "[1]"
      ]
     },
     "execution_count": 10,
     "metadata": {},
     "output_type": "execute_result"
    }
   ],
   "source": [
    "hard_predict(model, [[1,1]])"
   ]
  },
  {
   "cell_type": "markdown",
   "metadata": {},
   "source": [
    "## Loss Functions"
   ]
  },
  {
   "cell_type": "code",
   "execution_count": 11,
   "metadata": {},
   "outputs": [],
   "source": [
    "def squared_error(examples, predictions):\n",
    "    \"\"\"\n",
    "    Given a list of examples and model predictions on the examples' Xs (examples[i][0]), return the squared error.\n",
    "    \"\"\"\n",
    "    acc = 0\n",
    "    for i in range(len(examples)):\n",
    "        x = examples[i][1] - predictions[i] # error\n",
    "        acc += x*x # squared\n",
    "\n",
    "    return acc"
   ]
  },
  {
   "cell_type": "code",
   "execution_count": 12,
   "metadata": {},
   "outputs": [],
   "source": [
    "def mean_squared_error(examples, predictions):\n",
    "    \"\"\"\n",
    "    Given a list of examples and model predictions on the examples' Xs (examples[i][0]), return the mean squared error.\n",
    "    \"\"\"\n",
    "    return squared_error(examples, predictions) / len(examples)"
   ]
  },
  {
   "cell_type": "markdown",
   "metadata": {},
   "source": [
    "## Gradient Computation"
   ]
  },
  {
   "cell_type": "code",
   "execution_count": 73,
   "metadata": {},
   "outputs": [],
   "source": [
    "def compute_gradient(examples, model, param):\n",
    "    \"\"\"\n",
    "    Given a list of examples, a model, and the id of a parameter, returns the batch gradient of that parameter and the list of item gradients.\n",
    "    \"\"\"\n",
    "    item_gs = []\n",
    "    \n",
    "    # sqe derivative\n",
    "    G = lambda X, y : (y - predict(model, [X])[0]) * predict(model, [X])[0] * (1 - predict(model, [X])[0]) * X[param]\n",
    "\n",
    "    # sum up sqe derivative for every example\n",
    "    acc = 0\n",
    "    for i in range(len(examples)):\n",
    "        acc += G(examples[i][0], examples[i][1])\n",
    "        item_gs.append(G(examples[i][0], examples[i][1]))\n",
    "\n",
    "        return acc, item_gs"
   ]
  },
  {
   "cell_type": "code",
   "execution_count": 74,
   "metadata": {},
   "outputs": [
    {
     "data": {
      "text/plain": [
       "(-1.522434254969053e-08, [-1.522434254969053e-08])"
      ]
     },
     "execution_count": 74,
     "metadata": {},
     "output_type": "execute_result"
    }
   ],
   "source": [
    "compute_gradient(examples, model, 0)"
   ]
  },
  {
   "cell_type": "markdown",
   "metadata": {},
   "source": [
    "## Loss Function Practice"
   ]
  },
  {
   "cell_type": "code",
   "execution_count": 30,
   "metadata": {},
   "outputs": [
    {
     "name": "stdout",
     "output_type": "stream",
     "text": [
      "sqe=6.959105774927521e-06, msqe=2.3197019249758406e-06\n"
     ]
    }
   ],
   "source": [
    "hs = predict(model, [x for (x, _) in examples])\n",
    "sqe = squared_error(examples, hs)\n",
    "msqe = mean_squared_error(examples, hs)\n",
    "\n",
    "print(f'{sqe=}, {msqe=}')"
   ]
  },
  {
   "cell_type": "code",
   "execution_count": 25,
   "metadata": {},
   "outputs": [
    {
     "name": "stdout",
     "output_type": "stream",
     "text": [
      "real fucntion: [3, 4]\n"
     ]
    },
    {
     "data": {
      "text/plain": [
       "[([1, -10], 0), ([1, 5], 1), ([1, 6], 1)]"
      ]
     },
     "execution_count": 25,
     "metadata": {},
     "output_type": "execute_result"
    }
   ],
   "source": [
    "def logistic_examples(num_examples, num_xs=2, x0_is_bias=True): # default to univariate\n",
    "    \"\"\"\n",
    "    Randomly generates an example set in the shape (num_examples, (num_xs, 1)).\n",
    "    If x0_is_bias is True, then x0 will be 1 in every example.\n",
    "    \"\"\"\n",
    "    # real function -- used to find ys\n",
    "    model = []\n",
    "    for i in range(num_xs):\n",
    "        model.append(random.randint(0, 5))\n",
    "    \n",
    "    # print(f'real fucntion: {model}')\n",
    "\n",
    "    examples = []\n",
    "    for j in range(num_examples):\n",
    "        ex_i = [] # current example\n",
    "        for j in range(num_xs):\n",
    "            if j == 0 and x0_is_bias:\n",
    "                ex_i.append(1)\n",
    "            else:\n",
    "                ex_i.append(random.randint(-10, 10))\n",
    "    \n",
    "        examples.append((ex_i, hard_predict(model, [ex_i])[0]))\n",
    "    \n",
    "    return examples\n",
    "\n",
    "logistic_examples(3, 2)"
   ]
  }
 ],
 "metadata": {
  "kernelspec": {
   "display_name": "Python 3",
   "language": "python",
   "name": "python3"
  },
  "language_info": {
   "codemirror_mode": {
    "name": "ipython",
    "version": 3
   },
   "file_extension": ".py",
   "mimetype": "text/x-python",
   "name": "python",
   "nbconvert_exporter": "python",
   "pygments_lexer": "ipython3",
   "version": "3.10.12"
  }
 },
 "nbformat": 4,
 "nbformat_minor": 2
}
